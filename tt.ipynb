{
 "cells": [
  {
   "cell_type": "code",
   "execution_count": 3,
   "metadata": {},
   "outputs": [],
   "source": [
    "class ARGS():\n",
    "    def __init__(self):\n",
    "        self.gpus = '0'\n",
    "        self.cpus = 4\n",
    "        self.seed = 42\n",
    "        self.network = 'GEM'\n",
    "        self.n_tasks = 2\n",
    "        self.n_memories = 256\n",
    "        self.memory_strength = 0.5\n",
    "        self.model = 'ResNet18'\n",
    "        self.channel = 64\n",
    "        self.load = False\n",
    "        self.official = False\n",
    "        self.checkpoint = 'checkpoints'\n",
    "        self.epochs = 5\n",
    "        self.loss = 'CE'\n",
    "        self.init_lr = 1e-2\n",
    "        self.lr_scheduler = 'cosine_annealing'\n",
    "        self.optimizer = 'Adam'\n",
    "        self.eval_term = 1\n",
    "        self.dataset = 'mnist'\n",
    "        self.continuum = True\n",
    "        self.data_path = 'data'\n",
    "        self.image_size = [256, 256]\n",
    "        self.batch_size = 10\n",
    "        self.in_channel = 3\n",
    "args = ARGS()"
   ]
  },
  {
   "cell_type": "code",
   "execution_count": 11,
   "metadata": {},
   "outputs": [
    {
     "name": "stdout",
     "output_type": "stream",
     "text": [
      "Create ResNet18 model\n"
     ]
    }
   ],
   "source": [
    "from network.utils import load_network\n",
    "import torch\n",
    "\n",
    "device = 'cpu'\n",
    "network, start_epoch, best_recall, recalls, save_path = load_network(args, 10, device=device)"
   ]
  },
  {
   "cell_type": "code",
   "execution_count": 12,
   "metadata": {},
   "outputs": [
    {
     "data": {
      "text/plain": [
       "[9408, 64, 64, 64, 36864, 64, 64, 64, 36864, 64]"
      ]
     },
     "execution_count": 12,
     "metadata": {},
     "output_type": "execute_result"
    }
   ],
   "source": [
    "network.grad_dims[:10]"
   ]
  },
  {
   "cell_type": "code",
   "execution_count": 13,
   "metadata": {},
   "outputs": [
    {
     "data": {
      "text/plain": [
       "torch.Size([11186442, 2])"
      ]
     },
     "execution_count": 13,
     "metadata": {},
     "output_type": "execute_result"
    }
   ],
   "source": [
    "network.grads.shape"
   ]
  },
  {
   "cell_type": "code",
   "execution_count": 25,
   "metadata": {},
   "outputs": [
    {
     "data": {
      "text/plain": [
       "torch.Size([11186442])"
      ]
     },
     "execution_count": 25,
     "metadata": {},
     "output_type": "execute_result"
    }
   ],
   "source": [
    "network.grads[:, 0].shape"
   ]
  },
  {
   "cell_type": "code",
   "execution_count": 26,
   "metadata": {},
   "outputs": [
    {
     "data": {
      "text/plain": [
       "torch.Size([1, 11186442])"
      ]
     },
     "execution_count": 26,
     "metadata": {},
     "output_type": "execute_result"
    }
   ],
   "source": [
    "network.grads[:, 0].unsqueeze(0).shape"
   ]
  },
  {
   "cell_type": "code",
   "execution_count": 29,
   "metadata": {},
   "outputs": [
    {
     "data": {
      "text/plain": [
       "torch.Size([11186442, 1])"
      ]
     },
     "execution_count": 29,
     "metadata": {},
     "output_type": "execute_result"
    }
   ],
   "source": [
    "network.grads.index_select(1, torch.LongTensor([0])).shape"
   ]
  },
  {
   "cell_type": "code",
   "execution_count": 30,
   "metadata": {},
   "outputs": [
    {
     "data": {
      "text/plain": [
       "tensor([[0.]])"
      ]
     },
     "execution_count": 30,
     "metadata": {},
     "output_type": "execute_result"
    }
   ],
   "source": [
    "torch.mm(network.grads[:, 0].unsqueeze(0),\n",
    "         network.grads.index_select(1, torch.LongTensor([0])))"
   ]
  },
  {
   "cell_type": "code",
   "execution_count": 31,
   "metadata": {},
   "outputs": [
    {
     "data": {
      "text/plain": [
       "torch.Size([11186442, 1])"
      ]
     },
     "execution_count": 31,
     "metadata": {},
     "output_type": "execute_result"
    }
   ],
   "source": [
    "network.grads[:, 0].unsqueeze(1).shape"
   ]
  }
 ],
 "metadata": {
  "kernelspec": {
   "display_name": "cl",
   "language": "python",
   "name": "python3"
  },
  "language_info": {
   "codemirror_mode": {
    "name": "ipython",
    "version": 3
   },
   "file_extension": ".py",
   "mimetype": "text/x-python",
   "name": "python",
   "nbconvert_exporter": "python",
   "pygments_lexer": "ipython3",
   "version": "3.10.0"
  }
 },
 "nbformat": 4,
 "nbformat_minor": 2
}
